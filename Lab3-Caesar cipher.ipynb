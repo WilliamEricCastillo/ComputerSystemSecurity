{
 "cells": [
  {
   "cell_type": "code",
   "execution_count": 46,
   "id": "aabb7b7c-12e9-4c1e-8077-1ddc4c0f493e",
   "metadata": {},
   "outputs": [],
   "source": [
    "\n",
    "def customEncrypt(input_text, n, d):\n",
    "    reversed_input_text = input_text[::-1]\n",
    "\n",
    "    result = \"\"\n",
    "    if d == 1:\n",
    "        for character in reversed_input_text:\n",
    "            x = ord(character)\n",
    "\n",
    "            if character == ' ':\n",
    "                result += ' '\n",
    "            else:\n",
    "                result += chr(x + n)\n",
    "    if d == -1:\n",
    "        for character in reversed_input_text:\n",
    "            x = ord(character)\n",
    "\n",
    "            if character == ' ':\n",
    "                result += ' '\n",
    "            else:\n",
    "                result += chr(x - n)\n",
    "                \n",
    "    return result\n"
   ]
  },
  {
   "cell_type": "code",
   "execution_count": 47,
   "id": "da07c772-299a-4203-a8c3-7bf3a9afcbd3",
   "metadata": {},
   "outputs": [],
   "source": [
    "def testCustomEncrypt():\n",
    "    \n",
    "    print(\"Testing Custom Encryption Algorithm\")\n",
    "    print(\"***********************************\")\n",
    "\n",
    "    # gets username\n",
    "    while True:\n",
    "        try:\n",
    "            inputUserID = input('Enter UserID as text: ')\n",
    "\n",
    "            status = False\n",
    "            if inputUserID.isascii():\n",
    "                if chr(32) in inputUserID or chr(33) in inputUserID:\n",
    "                    status = True\n",
    "\n",
    "                if status:\n",
    "                    print('Error: Whitespaces or ! are not allowed!\\n')\n",
    "                else:\n",
    "                    break\n",
    "        except:\n",
    "            print('Error: ASCII characters Only\\n')\n",
    "\n",
    "            \n",
    "    while True:\n",
    "        try:\n",
    "            inputPassword = input('Enter password as text: ')\n",
    "\n",
    "            status = False\n",
    "            if inputPassword.isascii():\n",
    "                if chr(32) in inputPassword or chr(33) in inputPassword:\n",
    "                    status = True\n",
    "\n",
    "                if status:\n",
    "                    print('Error: Whitespaces or ! are not allowed!\\n')\n",
    "                else:\n",
    "                    break\n",
    "        except:\n",
    "            print('Error: ASCII characters Only\\n')\n",
    "\n",
    "    while True:\n",
    "        try:\n",
    "            N = int(input('Enter value of n: ').strip())\n",
    "            if N >= 1:\n",
    "                break\n",
    "            else:\n",
    "                print(\"Error: Shift must be >= 1\\n\")\n",
    "        except:\n",
    "            print('Error: Integers Only\\n')\n",
    "\n",
    "\n",
    "\n",
    "    # shift direction\n",
    "    while True:\n",
    "        try:\n",
    "            D = int(input('Enter value of d: ').strip())\n",
    "            if -1 <= D <= 1 and D != 0:\n",
    "                break\n",
    "            else:\n",
    "                print(\"Error: Enter 1=Right or -1=Left: \\n\")\n",
    "        except:\n",
    "            print('Error: Integers Only\\n')\n",
    "\n",
    "    encrypted_userid = customEncrypt(inputUserID, N, D)\n",
    "    encrypted_password = customEncrypt(inputPassword, N, D)\n",
    "    \n",
    "    if D == 1:\n",
    "        D = -1\n",
    "    else:\n",
    "        D = 1\n",
    "    original_userid = customEncrypt(encrypted_userid, N, D)\n",
    "    original_password = customEncrypt(encrypted_password, N, D)\n",
    "\n",
    "    print(\"encrypted userid: \", encrypted_userid)\n",
    "    print(\"encrypted passwd: \", encrypted_password)\n",
    "    print(\"Original userid: \", original_userid)\n",
    "    print(\"Original passwd: \", original_password)"
   ]
  },
  {
   "cell_type": "code",
   "execution_count": 48,
   "id": "5d828fa7-c307-4916-a7d3-6e38ddfccedf",
   "metadata": {},
   "outputs": [
    {
     "name": "stdout",
     "output_type": "stream",
     "text": [
      "Testing Custom Encryption Algorithm\n",
      "***********************************\n"
     ]
    },
    {
     "name": "stdin",
     "output_type": "stream",
     "text": [
      "Enter UserID as text:  hrathore\n",
      "Enter password as text:  Temp123\n",
      "Enter value of n:  3\n",
      "Enter value of d:  1\n"
     ]
    },
    {
     "name": "stdout",
     "output_type": "stream",
     "text": [
      "encrypted userid:  hurkwduk\n",
      "encrypted passwd:  654sphW\n",
      "Original userid:  hrathore\n",
      "Original passwd:  Temp123\n"
     ]
    }
   ],
   "source": [
    "testCustomEncrypt()"
   ]
  },
  {
   "cell_type": "code",
   "execution_count": null,
   "id": "27cd5612-567e-4583-a8c0-4d176911b982",
   "metadata": {},
   "outputs": [],
   "source": []
  },
  {
   "cell_type": "code",
   "execution_count": null,
   "id": "637388cc-15b3-464d-bbb6-a224c7d2d7ae",
   "metadata": {},
   "outputs": [],
   "source": []
  }
 ],
 "metadata": {
  "kernelspec": {
   "display_name": "Python 3 (ipykernel)",
   "language": "python",
   "name": "python3"
  },
  "language_info": {
   "codemirror_mode": {
    "name": "ipython",
    "version": 3
   },
   "file_extension": ".py",
   "mimetype": "text/x-python",
   "name": "python",
   "nbconvert_exporter": "python",
   "pygments_lexer": "ipython3",
   "version": "3.8.5"
  }
 },
 "nbformat": 4,
 "nbformat_minor": 5
}
