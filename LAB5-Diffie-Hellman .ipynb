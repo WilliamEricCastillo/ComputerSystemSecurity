{
 "cells": [
  {
   "cell_type": "code",
   "execution_count": 28,
   "id": "e8f2da4b",
   "metadata": {},
   "outputs": [],
   "source": [
    "def dh_generatePublicKey(P, G, private_key):\n",
    "    return pow(G, private_key, P)"
   ]
  },
  {
   "cell_type": "code",
   "execution_count": 29,
   "id": "8ffccfa0",
   "metadata": {},
   "outputs": [],
   "source": [
    "def dh_generateSecretKey(public_key, private_key, P):\n",
    "    return pow(public_key, private_key, P)"
   ]
  },
  {
   "cell_type": "code",
   "execution_count": 30,
   "id": "19fa58c4",
   "metadata": {},
   "outputs": [],
   "source": [
    "def primitive_root_check(P, G):\n",
    "    prim_root_list = []\n",
    "    for i in range(2, P):\n",
    "        mod_list = []\n",
    "        for k in range(1, P):\n",
    "            mod_num = pow(i, k) % P\n",
    "            mod_list.append(mod_num)\n",
    "        if len(set(mod_list)) is P-1:\n",
    "            prim_root_list.append(i)\n",
    "\n",
    "    if G in prim_root_list:\n",
    "        return True\n",
    "    else:\n",
    "        return False"
   ]
  },
  {
   "cell_type": "code",
   "execution_count": 31,
   "id": "62617cc9",
   "metadata": {},
   "outputs": [
    {
     "name": "stdout",
     "output_type": "stream",
     "text": [
      "Enter a Prime number for P: 7\n",
      "Enter a Prime number for G: 4\n",
      "4  IS NOT PRIMITIVE ROOT\n"
     ]
    },
    {
     "ename": "SystemExit",
     "evalue": "0",
     "output_type": "error",
     "traceback": [
      "An exception has occurred, use %tb to see the full traceback.\n",
      "\u001b[0;31mSystemExit\u001b[0m\u001b[0;31m:\u001b[0m 0\n"
     ]
    }
   ],
   "source": [
    "import sys\n",
    "import sympy\n",
    "\n",
    "def main():\n",
    "    P = 0\n",
    "    G = 0\n",
    "    x = 0\n",
    "    a = x\n",
    "    y = 0\n",
    "    b = 0\n",
    "    ka = 0\n",
    "    kb = 0\n",
    "\n",
    "    while True:\n",
    "        try:\n",
    "            P = int(input(\"Enter a Prime number for P: \").strip())\n",
    "\n",
    "            if not sympy.isprime(P):\n",
    "                print(\"ERROR: P IS NOT PRIME!\\n\")\n",
    "            else:\n",
    "                break\n",
    "\n",
    "        except ValueError:\n",
    "            print(\"ERROR: INVALID INPUT!\\n\")\n",
    "\n",
    "    while True:\n",
    "        try:\n",
    "            G = int(input(\"Enter a Prime number for G: \").strip())\n",
    "\n",
    "            if not sympy.isprime(P):\n",
    "                print(\"ERROR: P IS NOT PRIME!\\n\")\n",
    "            else:\n",
    "                break\n",
    "\n",
    "        except ValueError:\n",
    "            print(\"ERROR: INVALID INPUT!\\n\")\n",
    "\n",
    "    if not primitive_root_check(P, G):\n",
    "        print(G, \" IS NOT PRIMITIVE ROOT\")\n",
    "        sys.exit(0)\n",
    "\n",
    "    while True:\n",
    "        try:\n",
    "            a = int(input(\"Enter a number for A: \"))\n",
    "\n",
    "            if a <= (P - 1):\n",
    "                break\n",
    "            else:\n",
    "                print(\"A SHOULD BE BETWEEN 0 and P-1\")\n",
    "\n",
    "        except ValueError:\n",
    "            print(\"Please enter a valid number for  A: \")\n",
    "            continue\n",
    "\n",
    "    while True:\n",
    "        try:\n",
    "            b = int(input(\"Enter a number for B: \"))\n",
    "\n",
    "            if b <= (P - 1):\n",
    "                break\n",
    "            else:\n",
    "                print(\"B SHOULD BE BETWEEN 0 and P-1\")\n",
    "\n",
    "        except ValueError:\n",
    "            print(\"Please enter a valid number for  B: \")\n",
    "            continue\n",
    "\n",
    "    x = dh_generatePublicKey(P, G, a)\n",
    "    y = dh_generatePublicKey(P, G, b)\n",
    "\n",
    "    ka = dh_generateSecretKey(y, a, P)\n",
    "    kb = dh_generateSecretKey(x, b, P)\n",
    "\n",
    "    if ka == kb:\n",
    "        print(\"Secret key for the Alice is:\", ka)\n",
    "        print(\"Secret Key for the Bob is:\", kb)\n",
    "\n",
    "\n",
    "if __name__ == '__main__':\n",
    "    main()\n",
    "\n"
   ]
  },
  {
   "cell_type": "code",
   "execution_count": null,
   "id": "771cdb8c",
   "metadata": {},
   "outputs": [],
   "source": []
  }
 ],
 "metadata": {
  "kernelspec": {
   "display_name": "Python 3 (ipykernel)",
   "language": "python",
   "name": "python3"
  },
  "language_info": {
   "codemirror_mode": {
    "name": "ipython",
    "version": 3
   },
   "file_extension": ".py",
   "mimetype": "text/x-python",
   "name": "python",
   "nbconvert_exporter": "python",
   "pygments_lexer": "ipython3",
   "version": "3.10.6"
  }
 },
 "nbformat": 4,
 "nbformat_minor": 5
}
